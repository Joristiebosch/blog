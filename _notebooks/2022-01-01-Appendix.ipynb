{
 "cells": [
  {
   "cell_type": "markdown",
   "id": "37c22bb8",
   "metadata": {},
   "source": [
    "# Appendix\n",
    "> Links to the model and a full bibliography\n",
    "\n",
    "- toc: true \n",
    "- badges: false\n",
    "- comments: true\n",
    "- permalink: /appendix\n",
    "- sectionnr: 8"
   ]
  },
  {
   "cell_type": "markdown",
   "id": "6ed571c6",
   "metadata": {},
   "source": [
    "## The model\n",
    "\n",
    "The model can be found on my [personal Github](https://github.com/joristiebosch/deshima-sensitivity/tree/%2368-filter-profile). An up to date version, that may have been changed since writing this report can be found at [the deshima-sensitivity github](https://github.com/deshima-dev/deshima-sensitivity/) and can be used via the python package installer `pip install deshima-sensitivity`."
   ]
  },
  {
   "cell_type": "markdown",
   "id": "2b6fc64c",
   "metadata": {},
   "source": [
    "## Bibliography\n",
    "{% bibliography %}"
   ]
  }
 ],
 "metadata": {
  "kernelspec": {
   "display_name": "Python 3 (ipykernel)",
   "language": "python",
   "name": "python3"
  },
  "language_info": {
   "codemirror_mode": {
    "name": "ipython",
    "version": 3
   },
   "file_extension": ".py",
   "mimetype": "text/x-python",
   "name": "python",
   "nbconvert_exporter": "python",
   "pygments_lexer": "ipython3",
   "version": "3.9.7"
  }
 },
 "nbformat": 4,
 "nbformat_minor": 5
}
