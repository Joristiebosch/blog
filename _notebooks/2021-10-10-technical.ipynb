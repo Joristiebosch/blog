{
  "nbformat": 4,
  "nbformat_minor": 0,
  "metadata": {
    "kernelspec": {
      "display_name": "visualization-curriculum-gF8wUgMm",
      "language": "python",
      "name": "visualization-curriculum-gf8wugmm"
    },
    "language_info": {
      "codemirror_mode": {
        "name": "ipython",
        "version": 3
      },
      "file_extension": ".py",
      "mimetype": "text/x-python",
      "name": "python",
      "nbconvert_exporter": "python",
      "pygments_lexer": "ipython3",
      "version": "3.6.7"
    },
    "varInspector": {
      "cols": {
        "lenName": 16,
        "lenType": 16,
        "lenVar": 40
      },
      "kernels_config": {
        "python": {
          "delete_cmd_postfix": "",
          "delete_cmd_prefix": "del ",
          "library": "var_list.py",
          "varRefreshCmd": "print(var_dic_list())"
        },
        "r": {
          "delete_cmd_postfix": ") ",
          "delete_cmd_prefix": "rm(",
          "library": "var_list.r",
          "varRefreshCmd": "cat(var_dic_list()) "
        }
      },
      "types_to_exclude": [
        "module",
        "function",
        "builtin_function_or_method",
        "instance",
        "_Feature"
      ],
      "window_display": false
    },
    "colab": {
      "name": "2020-02-20-test.ipynb",
      "provenance": []
    }
  },
  "cells": [
    {
      "cell_type": "markdown",
      "metadata": {
        "id": "Qap5abWvZINu"
      },
      "source": [
        "# Technical information on how this blog is made\n",
        "> Using Fastpages and Github Pages to host interactive Jupyter Notebooks in blog format\n",
        "\n",
        "- toc: true \n",
        "- badges: true\n",
        "- comments: true\n",
        "- categories: [jupyter]\n",
        "- hide: true\n",
        "- permalink: /technical\n",
        "- image: images/chart-preview.png"
      ]
    },
    {
      "cell_type": "markdown",
      "metadata": {
        "id": "ohQD1omEZIN3"
      },
      "source": [
        "# Introduction\n",
        "\n",
        "This blog is written using [fastpages](https://github.com/fastai/fastpages){% cite fastpages_introduction%}, an easy-to-use (and to setup) way to convert Jupyter Notebooks to blogs, which are automatically hosted on a Github Pages website. This post serves as an introduction for potential users, as a way for me to test some things and as a reference for some more obscure parts of the Fastpages process. Let's begin!\n",
        "\n"
      ]
    },
    {
      "cell_type": "markdown",
      "metadata": {
        "id": "lQUifsETZIN4"
      },
      "source": [
        "# Why Fastpages?\n",
        "\n",
        "A big part of my thesis will be working in python, specifically in Jupyter Notebooks. These are great ways to blend python scripts with markdown and some $\\LaTeX$ features, meaning that in one cell I can mathmatically derive some expression and in the next I can script it in Python. This back and forth got me thinking about using these notebooks as the foundation for my thesis, which led me to fastpages. This means that if I write proper jupyter notebooks, I will be able to:\n",
        "\n",
        "*   Work on the problem at hand\n",
        "*   Share the problem at hand in a more informal way\n",
        "*   Copy-paste a section straight into my final report\n",
        "\n",
        "all from the same source file. Sounds great!\n",
        "\n",
        "However, there are some limitations to *vanilla* fastpages\n",
        "\n"
      ]
    },
    {
      "cell_type": "markdown",
      "metadata": {
        "id": "BcgpO-KZZIN6"
      },
      "source": [
        "# Pedantic Limitations and how to solve them\n",
        "\n",
        "## Equations\n",
        "\n",
        "Using jupyter notebooks you can enter inline math, for example for variables like $x$ and $\\eta_{NEP}$ by using the syntax `$some expression$`, just like you would do in $\\LaTeX$ markdown files. However a centered function\n",
        " ```\n",
        "$$\n",
        "Complicated math\n",
        "$$\n",
        "```\n",
        " will not be numbered and is not referenceable. Thankfully Anthoine C.{% cite math_with_fastpages %} gave the solution, which is to override the default mathrenderer with a couple of lines of code and that seemed to do the trick.\n",
        "\n",
        " $$\\begin{equation}\n",
        "i\\hbar\\frac{\\partial\\mathbf{\\Psi}(x,t)}{\\partial t}=\\left(-\\frac{\\hbar}{2m}\\frac{\\partial^2}{\\partial x^2}+V(x,t)\\right)\\mathbf{\\Psi}(x,t) \n",
        " \\end{equation}$$\n",
        " and as we can see in \\eqref{Schrodinger}, we have a beatifully typeset, referenced Schrodinger Equation. However, as we can see from the Identity matrix in $\\mathbb{R}^4$ \\eqref{I_R4}, the equation reference varies in size with the size of the equation, so maybe don't throw away your favorite $\\LaTeX$ renderer yet.\n",
        "$$\\begin{equation}\n",
        "I = \\begin{pmatrix}1&0&0&0 \\\\ 0&1&0&0 \\\\ 0&0&1&0 \\\\ 0&0&0&1\\end{pmatrix}\n",
        "\\end{equation}$$\n"
      ]
    },
    {
      "cell_type": "markdown",
      "metadata": {
        "id": "pq8pb3CZmeq_"
      },
      "source": [
        "## BibTex\n",
        "\n",
        "Fastpages has a built-in way to handle in-text references, but in order to minimize the manual work in copy-pasting sections of notebook to blog to thesis, I have decided to swap it out for a BibTex compliant renderer, as described by the fastpages team {% cite bibtex_with_fastpages%}. As you can see from this post, this works well. The big advantage is that the entire website uses a single `references.bib` file, so I can cite the same reference across multiple posts and end up with a single reference file when I want to consolidate multiple posts in a $\\LaTeX$ thesis or a single post.\n",
        "\n",
        "One caveat in in-text refencing is the usual `\\\\cite{<source>}` doesn't work and `{{'{'}}% cite <source> %}` is needed instead. This can be changed in bulk using the find and replace feature of any editor however."
      ]
    },
    {
      "cell_type": "markdown",
      "metadata": {
        "id": "l5-XN-TGl_za"
      },
      "source": [
        "# Bibliography\n",
        "{% bibliography --cited %}"
      ]
    }
  ]
}
