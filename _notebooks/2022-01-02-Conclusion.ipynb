{
 "cells": [
  {
   "cell_type": "markdown",
   "id": "515403e0",
   "metadata": {},
   "source": [
    "# Conclusion\n",
    "> Concluding the research\n",
    "\n",
    "- toc: true \n",
    "- badges: false\n",
    "- comments: true\n",
    "- hide: false\n",
    "- categories: [jupyter]\n",
    "- permalink: /conclusion\n",
    "- image: images/conclusion.jpg"
   ]
  },
  {
   "cell_type": "markdown",
   "id": "4e69d4d0",
   "metadata": {},
   "source": [
    "In the previous chapters I have first explained photon bunching and photon statistics qualitatively and then explored its impact on the DESHIMA spectrometer quantitatively. I have shown a model for the probabilistics behind photon bunching, showing that it is not the detection itself that triggers bunching, but rather a change in the underlying photon probability. I have also discussed the coherence time, defined as the timescale below which the non-stochastic effects of photon bunching take hold. The coherence time is related to the bandwidth by\n",
    "\n",
    "$$\\begin{equation}\n",
    "\\tau_\\mathrm{coh}\\approx\\frac{1}{\\Delta\\nu}\n",
    "\\end{equation}$$\n",
    "\n",
    "After exploring photon statistics, I discussed photon noise induced by both Poisson statistics and photon bunching. The total noise equivalent power induced by photon noise is given by{%cite zmuidzinas_2003%}:\n",
    "\n",
    "$$\\begin{equation}\n",
    "\\mathrm{NEP}_{\\tau,\\mathrm{ph}}^2=\\frac{1}{\\tau}\\int_0^\\infty h\\nu\\eta\\left(\\nu\\right)\\mathrm{PSD} + \\eta^2\\left(\\nu\\right)\\mathrm{PSD}^2d\\nu\n",
    "\\end{equation}$$"
   ]
  },
  {
   "cell_type": "markdown",
   "id": "3c8f8666",
   "metadata": {},
   "source": [
    "Whereas the approximation given by {%cite zmuidzinas_2003%} and used previously in calculating the sensitivity of the DESHIMA system{% cite endo_2019%} is found by approximating a very narrow bandwidth ($\\nu\\gg\\Delta\\nu$) and then approximating the integral by\n",
    "\n",
    "$$\\begin{equation}\n",
    "\\mathrm{NEP}_{\\tau,\\mathrm{ph}}^2=\\frac{1}{\\tau}\\left(h\\nu\\eta\\mathrm{PSD}\\Delta\\nu+\\eta^2\\mathrm{PSD}^2\\Delta\\nu\\right)\n",
    "\\end{equation}$$\n",
    "\n",
    "this approximation overestimates the photon bunching effects for a filter $\\eta\\left(\\nu\\right)$ with a Lorentzian shape. I have shown that, in the case of a Lorentzian filter and a flat $\\mathrm{PSD}$, this integral collapses to \n",
    "\n",
    "$$\\begin{equation}\n",
    "\\mathrm{NEP}_{\\tau,\\mathrm{ph}}^2=\\frac{1}{\\tau}\\left(h\\nu\\eta\\mathrm{PSD}\\Delta\\nu+\\frac{2}{\\pi}\\eta^2\\mathrm{PSD}^2\\Delta\\nu\\right)\n",
    "\\end{equation}$$\n",
    "\n",
    "with $\\Delta\\nu$ the $\\mathrm{FWHM}$ of the filter."
   ]
  },
  {
   "cell_type": "markdown",
   "id": "b2388333",
   "metadata": {},
   "source": [
    "Besides this algebraic result for a Lorentzian filter I have also modified the existing `deshima-sensitivity`{% cite deshima-sensitivity %} model to calculate this integral not just for mathematical filters, but for arbitrary filter shapes loaded in via a file. This allows researchers to compare the sensitivity of various designs in software.\n",
    "\n",
    "To verify the changes to the model I have compared it with the old model and confirmed that the latter overestimated the bunching noise by a factor of $\\pi/2$ , even for a non-flat $\\mathrm{PSD}$. Other than this, the changes affect the power and noise in local extrema of the $\\mathrm{PSD}$, where the old model didn't integrate over the full range of the filter and therefore took the $\\mathrm{PSD}$ as a flat spectrum locally."
   ]
  },
  {
   "cell_type": "markdown",
   "id": "0fb571fa",
   "metadata": {},
   "source": [
    "## The future of this research\n",
    "Because the model now more closely resembles the physics that is occurring inside the filter section of a DESHIMA spectrometer, it can be used to compare different filter designs in the `deshima-sensitivity` package itself. This is an important tool to compare filter topologies differing from Lorentzian shapes. Paired with methods to accurately describe the coupling of a source to the detector it can be used to very accurately calculate the signal to noise ratio of a specific filter profile, aiding in the experimental design of different filter profiles. Such research is in progress and as such the model will immediately be put to use. \n",
    "\n",
    "The improved accuracy of the approximation in the bunching term for a Lorentzian filter can prove useful when designing the DESHIMA spectrometer, as it gives a more physically rigorous target of the maximum sensitivity the DESHIMA spectrometer can strive towards. \n",
    "\n",
    "Finally, this thesis gives a thorough overview of photon statistics in astronomical measurement and of photon bunching in particular and as such can be a great teaching tool. My thesis supervisor, dr. Akira Endo, has been very interested in using this as teaching material for courses he gives on the subject and I am looking forward to helping other students understand photon statistics and photon bunching better."
   ]
  },
  {
   "cell_type": "markdown",
   "id": "b71322e3",
   "metadata": {},
   "source": [
    "<div style=\"display: flex;justify-content: space-between\">\n",
    "    <a href=\"{{site.baseurl}}/results\" >\n",
    "        <div style=\"display: inline;font-size: x-large;padding: .5em;width:auto;\"\n",
    "             class=\"Box box-shadow-medium rounded-1 col-12\">Previous Chapter</div>\n",
    "    </a>\n",
    "    <a href=\"{{site.baseurl}}/appendix\">\n",
    "        <div style=\"display: inline;font-size: x-large;padding: .5em;width:auto;\"\n",
    "             class=\"Box box-shadow-medium rounded-1 col-12\">Appendix</div>\n",
    "    </a>\n",
    "</div>"
   ]
  },
  {
   "cell_type": "markdown",
   "id": "1449b6cf",
   "metadata": {},
   "source": [
    "## Bibliography\n",
    "{% bibliography --cited %}"
   ]
  },
  {
   "cell_type": "code",
   "execution_count": null,
   "id": "c9876361",
   "metadata": {},
   "outputs": [],
   "source": [
    "#hide\n",
    "from IPython.display import Javascript, display\n",
    "\n",
    "display(Javascript('''MathJax.Hub.Configured()'''))"
   ]
  }
 ],
 "metadata": {
  "kernelspec": {
   "display_name": "Python 3 (ipykernel)",
   "language": "python",
   "name": "python3"
  },
  "language_info": {
   "codemirror_mode": {
    "name": "ipython",
    "version": 3
   },
   "file_extension": ".py",
   "mimetype": "text/x-python",
   "name": "python",
   "nbconvert_exporter": "python",
   "pygments_lexer": "ipython3",
   "version": "3.9.7"
  }
 },
 "nbformat": 4,
 "nbformat_minor": 5
}
